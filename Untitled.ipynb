{
 "cells": [
  {
   "cell_type": "code",
   "execution_count": 1,
   "id": "7aa2504a-bfd0-40fc-86ea-f576c99d33d4",
   "metadata": {},
   "outputs": [],
   "source": [
    "import numpy as np\n",
    "import sympy as sp\n",
    "from sympy.solvers import solve \n",
    "x, y=sp.symbols('x,y')"
   ]
  },
  {
   "cell_type": "code",
   "execution_count": 2,
   "id": "41654caa-d0e5-42c7-a09b-3b96555a5b87",
   "metadata": {},
   "outputs": [],
   "source": [
    "# 15 likningssett "
   ]
  },
  {
   "cell_type": "code",
   "execution_count": null,
   "id": "609559d1-1f4a-4d4c-bfb0-69299244a86b",
   "metadata": {},
   "outputs": [],
   "source": [
    "# Oppgave 1 \n"
   ]
  }
 ],
 "metadata": {
  "kernelspec": {
   "display_name": "Python 3 (ipykernel)",
   "language": "python",
   "name": "python3"
  },
  "language_info": {
   "codemirror_mode": {
    "name": "ipython",
    "version": 3
   },
   "file_extension": ".py",
   "mimetype": "text/x-python",
   "name": "python",
   "nbconvert_exporter": "python",
   "pygments_lexer": "ipython3",
   "version": "3.9.5"
  }
 },
 "nbformat": 4,
 "nbformat_minor": 5
}
