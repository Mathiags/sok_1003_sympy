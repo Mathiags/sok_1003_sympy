{
 "cells": [
  {
   "cell_type": "code",
   "execution_count": 15,
   "id": "7aa2504a-bfd0-40fc-86ea-f576c99d33d4",
   "metadata": {},
   "outputs": [],
   "source": [
    "import numpy as np\n",
    "import sympy as sp\n",
    "from sympy.solvers import solve \n",
    "x, y=sp.symbols('x,y')"
   ]
  },
  {
   "cell_type": "code",
   "execution_count": 2,
   "id": "41654caa-d0e5-42c7-a09b-3b96555a5b87",
   "metadata": {},
   "outputs": [],
   "source": [
    "# 15 likningssett "
   ]
  },
  {
   "cell_type": "code",
   "execution_count": 31,
   "id": "90a6aa1f-8301-408e-9564-01c518e3e192",
   "metadata": {},
   "outputs": [
    {
     "data": {
      "text/latex": [
       "$\\displaystyle 2 x + 4 y = 6$"
      ],
      "text/plain": [
       "Eq(2*x + 4*y, 6)"
      ]
     },
     "execution_count": 31,
     "metadata": {},
     "output_type": "execute_result"
    }
   ],
   "source": [
    "#Oppgave 1\n",
    "#a1)\n",
    "eq1=sp.Eq(2*x+4*y , 6)\n",
    "eq1"
   ]
  },
  {
   "cell_type": "code",
   "execution_count": 33,
   "id": "2407a04c-e578-4e69-8fe9-6db32669d54e",
   "metadata": {},
   "outputs": [
    {
     "data": {
      "text/latex": [
       "$\\displaystyle - 2 x + y = 4$"
      ],
      "text/plain": [
       "Eq(-2*x + y, 4)"
      ]
     },
     "execution_count": 33,
     "metadata": {},
     "output_type": "execute_result"
    }
   ],
   "source": [
    "#a2)\n",
    "eq2=sp.Eq(-2*x+y, 4)\n",
    "eq2"
   ]
  },
  {
   "cell_type": "code",
   "execution_count": 47,
   "id": "1ef60f59-0e77-48ae-a017-8e3abc8fb717",
   "metadata": {},
   "outputs": [
    {
     "data": {
      "text/plain": [
       "{x: -1, y: 2}"
      ]
     },
     "execution_count": 47,
     "metadata": {},
     "output_type": "execute_result"
    }
   ],
   "source": [
    "solve([eq1, eq2],[x,y])"
   ]
  },
  {
   "cell_type": "code",
   "execution_count": 39,
   "id": "f40f6568-a6a4-43be-b21d-2c7a9ae57212",
   "metadata": {},
   "outputs": [
    {
     "data": {
      "text/latex": [
       "$\\displaystyle 2 x - y = -1$"
      ],
      "text/plain": [
       "Eq(2*x - y, -1)"
      ]
     },
     "execution_count": 39,
     "metadata": {},
     "output_type": "execute_result"
    }
   ],
   "source": [
    "# b1)\n",
    "eq3=sp.Eq(2*x-y, -1)\n",
    "eq3"
   ]
  },
  {
   "cell_type": "code",
   "execution_count": 44,
   "id": "e676f6dc-700a-4b91-b98e-1122738cffe1",
   "metadata": {},
   "outputs": [
    {
     "data": {
      "text/latex": [
       "$\\displaystyle x^{2} + x - y = 1$"
      ],
      "text/plain": [
       "Eq(x**2 + x - y, 1)"
      ]
     },
     "execution_count": 44,
     "metadata": {},
     "output_type": "execute_result"
    }
   ],
   "source": [
    "# b2) \n",
    "eq4=sp.Eq(x**2+x-y, 1)\n",
    "eq4"
   ]
  },
  {
   "cell_type": "code",
   "execution_count": 46,
   "id": "2712cd3c-5ebd-459a-bf65-7db6687a41b6",
   "metadata": {},
   "outputs": [
    {
     "data": {
      "text/plain": [
       "[(-1, -1), (2, 5)]"
      ]
     },
     "execution_count": 46,
     "metadata": {},
     "output_type": "execute_result"
    }
   ],
   "source": [
    "solve([eq3,eq4], [x,y])"
   ]
  },
  {
   "cell_type": "code",
   "execution_count": 48,
   "id": "0a483fcd-4901-4b75-90c9-cc0ee05894ec",
   "metadata": {},
   "outputs": [
    {
     "data": {
      "text/latex": [
       "$\\displaystyle 3 x - 12 = -6$"
      ],
      "text/plain": [
       "Eq(3*x - 12, -6)"
      ]
     },
     "execution_count": 48,
     "metadata": {},
     "output_type": "execute_result"
    }
   ],
   "source": [
    "#Oppgave 2\n",
    "# a1) \n",
    "eq5=sp.Eq(3*x-12, -6)\n",
    "eq5"
   ]
  },
  {
   "cell_type": "code",
   "execution_count": 50,
   "id": "cb1e37e0-a756-4202-a120-a6a8cb888f4c",
   "metadata": {},
   "outputs": [
    {
     "data": {
      "text/latex": [
       "$\\displaystyle 4 x - 8 y = 16$"
      ],
      "text/plain": [
       "Eq(4*x - 8*y, 16)"
      ]
     },
     "execution_count": 50,
     "metadata": {},
     "output_type": "execute_result"
    }
   ],
   "source": [
    "#a2)\n",
    "eq6=sp.Eq(4*x-8*y, 16)\n",
    "eq6"
   ]
  },
  {
   "cell_type": "code",
   "execution_count": 51,
   "id": "7df7febd-7834-46db-8885-f541b5ad743d",
   "metadata": {},
   "outputs": [
    {
     "data": {
      "text/plain": [
       "{x: 2, y: -1}"
      ]
     },
     "execution_count": 51,
     "metadata": {},
     "output_type": "execute_result"
    }
   ],
   "source": [
    "solve([eq5,eq6],[x,y])"
   ]
  },
  {
   "cell_type": "code",
   "execution_count": 52,
   "id": "39943bd5-84e2-4f48-8b20-be6d3d9eb417",
   "metadata": {},
   "outputs": [
    {
     "data": {
      "text/latex": [
       "$\\displaystyle x^{2} + 4 x - 3 = 3 y$"
      ],
      "text/plain": [
       "Eq(x**2 + 4*x - 3, 3*y)"
      ]
     },
     "execution_count": 52,
     "metadata": {},
     "output_type": "execute_result"
    }
   ],
   "source": [
    "#b1)\n",
    "eq7=sp.Eq(x**2+4*x-3, 3*y)\n",
    "eq7"
   ]
  },
  {
   "cell_type": "code",
   "execution_count": 53,
   "id": "0be00918-df38-4ab0-a83b-ce6142783264",
   "metadata": {},
   "outputs": [
    {
     "data": {
      "text/latex": [
       "$\\displaystyle 2 y = 8 - x$"
      ],
      "text/plain": [
       "Eq(2*y, 8 - x)"
      ]
     },
     "execution_count": 53,
     "metadata": {},
     "output_type": "execute_result"
    }
   ],
   "source": [
    "#b2)\n",
    "eq8=sp.Eq(2*y, 8-x)\n",
    "eq8"
   ]
  },
  {
   "cell_type": "code",
   "execution_count": 54,
   "id": "de26b51a-9703-4d12-8934-8bff68836d62",
   "metadata": {},
   "outputs": [
    {
     "data": {
      "text/plain": [
       "[(-15/2, 31/4), (2, 3)]"
      ]
     },
     "execution_count": 54,
     "metadata": {},
     "output_type": "execute_result"
    }
   ],
   "source": [
    "solve([eq7,eq8],[x,y])"
   ]
  }
 ],
 "metadata": {
  "kernelspec": {
   "display_name": "Python 3 (ipykernel)",
   "language": "python",
   "name": "python3"
  },
  "language_info": {
   "codemirror_mode": {
    "name": "ipython",
    "version": 3
   },
   "file_extension": ".py",
   "mimetype": "text/x-python",
   "name": "python",
   "nbconvert_exporter": "python",
   "pygments_lexer": "ipython3",
   "version": "3.9.5"
  }
 },
 "nbformat": 4,
 "nbformat_minor": 5
}
