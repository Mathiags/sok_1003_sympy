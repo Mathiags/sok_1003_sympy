{
 "cells": [
  {
   "cell_type": "code",
   "execution_count": 1,
   "id": "7aa2504a-bfd0-40fc-86ea-f576c99d33d4",
   "metadata": {},
   "outputs": [],
   "source": [
    "import numpy as np\n",
    "import sympy as sp\n",
    "from sympy.solvers import solve \n",
    "x, y=sp.symbols('x,y')"
   ]
  },
  {
   "cell_type": "code",
   "execution_count": 71,
   "id": "41654caa-d0e5-42c7-a09b-3b96555a5b87",
   "metadata": {},
   "outputs": [],
   "source": [
    "## 15 likningssett "
   ]
  },
  {
   "cell_type": "code",
   "execution_count": 31,
   "id": "90a6aa1f-8301-408e-9564-01c518e3e192",
   "metadata": {},
   "outputs": [
    {
     "data": {
      "text/latex": [
       "$\\displaystyle 2 x + 4 y = 6$"
      ],
      "text/plain": [
       "Eq(2*x + 4*y, 6)"
      ]
     },
     "execution_count": 31,
     "metadata": {},
     "output_type": "execute_result"
    }
   ],
   "source": [
    "#Oppgave 1\n",
    "#a1)\n",
    "eq1=sp.Eq(2*x+4*y , 6)\n",
    "eq1"
   ]
  },
  {
   "cell_type": "code",
   "execution_count": 33,
   "id": "2407a04c-e578-4e69-8fe9-6db32669d54e",
   "metadata": {},
   "outputs": [
    {
     "data": {
      "text/latex": [
       "$\\displaystyle - 2 x + y = 4$"
      ],
      "text/plain": [
       "Eq(-2*x + y, 4)"
      ]
     },
     "execution_count": 33,
     "metadata": {},
     "output_type": "execute_result"
    }
   ],
   "source": [
    "#a2)\n",
    "eq2=sp.Eq(-2*x+y, 4)\n",
    "eq2"
   ]
  },
  {
   "cell_type": "code",
   "execution_count": 47,
   "id": "1ef60f59-0e77-48ae-a017-8e3abc8fb717",
   "metadata": {},
   "outputs": [
    {
     "data": {
      "text/plain": [
       "{x: -1, y: 2}"
      ]
     },
     "execution_count": 47,
     "metadata": {},
     "output_type": "execute_result"
    }
   ],
   "source": [
    "solve([eq1, eq2],[x,y])"
   ]
  },
  {
   "cell_type": "code",
   "execution_count": 39,
   "id": "f40f6568-a6a4-43be-b21d-2c7a9ae57212",
   "metadata": {},
   "outputs": [
    {
     "data": {
      "text/latex": [
       "$\\displaystyle 2 x - y = -1$"
      ],
      "text/plain": [
       "Eq(2*x - y, -1)"
      ]
     },
     "execution_count": 39,
     "metadata": {},
     "output_type": "execute_result"
    }
   ],
   "source": [
    "# b1)\n",
    "eq3=sp.Eq(2*x-y, -1)\n",
    "eq3"
   ]
  },
  {
   "cell_type": "code",
   "execution_count": 44,
   "id": "e676f6dc-700a-4b91-b98e-1122738cffe1",
   "metadata": {},
   "outputs": [
    {
     "data": {
      "text/latex": [
       "$\\displaystyle x^{2} + x - y = 1$"
      ],
      "text/plain": [
       "Eq(x**2 + x - y, 1)"
      ]
     },
     "execution_count": 44,
     "metadata": {},
     "output_type": "execute_result"
    }
   ],
   "source": [
    "# b2) \n",
    "eq4=sp.Eq(x**2+x-y, 1)\n",
    "eq4"
   ]
  },
  {
   "cell_type": "code",
   "execution_count": 46,
   "id": "2712cd3c-5ebd-459a-bf65-7db6687a41b6",
   "metadata": {},
   "outputs": [
    {
     "data": {
      "text/plain": [
       "[(-1, -1), (2, 5)]"
      ]
     },
     "execution_count": 46,
     "metadata": {},
     "output_type": "execute_result"
    }
   ],
   "source": [
    "solve([eq3,eq4], [x,y])"
   ]
  },
  {
   "cell_type": "code",
   "execution_count": 48,
   "id": "0a483fcd-4901-4b75-90c9-cc0ee05894ec",
   "metadata": {},
   "outputs": [
    {
     "data": {
      "text/latex": [
       "$\\displaystyle 3 x - 12 = -6$"
      ],
      "text/plain": [
       "Eq(3*x - 12, -6)"
      ]
     },
     "execution_count": 48,
     "metadata": {},
     "output_type": "execute_result"
    }
   ],
   "source": [
    "#Oppgave 2\n",
    "# a1) \n",
    "eq5=sp.Eq(3*x-12, -6)\n",
    "eq5"
   ]
  },
  {
   "cell_type": "code",
   "execution_count": 50,
   "id": "cb1e37e0-a756-4202-a120-a6a8cb888f4c",
   "metadata": {},
   "outputs": [
    {
     "data": {
      "text/latex": [
       "$\\displaystyle 4 x - 8 y = 16$"
      ],
      "text/plain": [
       "Eq(4*x - 8*y, 16)"
      ]
     },
     "execution_count": 50,
     "metadata": {},
     "output_type": "execute_result"
    }
   ],
   "source": [
    "#a2)\n",
    "eq6=sp.Eq(4*x-8*y, 16)\n",
    "eq6"
   ]
  },
  {
   "cell_type": "code",
   "execution_count": 51,
   "id": "7df7febd-7834-46db-8885-f541b5ad743d",
   "metadata": {},
   "outputs": [
    {
     "data": {
      "text/plain": [
       "{x: 2, y: -1}"
      ]
     },
     "execution_count": 51,
     "metadata": {},
     "output_type": "execute_result"
    }
   ],
   "source": [
    "solve([eq5,eq6],[x,y])"
   ]
  },
  {
   "cell_type": "code",
   "execution_count": 52,
   "id": "39943bd5-84e2-4f48-8b20-be6d3d9eb417",
   "metadata": {},
   "outputs": [
    {
     "data": {
      "text/latex": [
       "$\\displaystyle x^{2} + 4 x - 3 = 3 y$"
      ],
      "text/plain": [
       "Eq(x**2 + 4*x - 3, 3*y)"
      ]
     },
     "execution_count": 52,
     "metadata": {},
     "output_type": "execute_result"
    }
   ],
   "source": [
    "#b1)\n",
    "eq7=sp.Eq(x**2+4*x-3, 3*y)\n",
    "eq7"
   ]
  },
  {
   "cell_type": "code",
   "execution_count": 53,
   "id": "0be00918-df38-4ab0-a83b-ce6142783264",
   "metadata": {},
   "outputs": [
    {
     "data": {
      "text/latex": [
       "$\\displaystyle 2 y = 8 - x$"
      ],
      "text/plain": [
       "Eq(2*y, 8 - x)"
      ]
     },
     "execution_count": 53,
     "metadata": {},
     "output_type": "execute_result"
    }
   ],
   "source": [
    "#b2)\n",
    "eq8=sp.Eq(2*y, 8-x)\n",
    "eq8"
   ]
  },
  {
   "cell_type": "code",
   "execution_count": 54,
   "id": "de26b51a-9703-4d12-8934-8bff68836d62",
   "metadata": {},
   "outputs": [
    {
     "data": {
      "text/plain": [
       "[(-15/2, 31/4), (2, 3)]"
      ]
     },
     "execution_count": 54,
     "metadata": {},
     "output_type": "execute_result"
    }
   ],
   "source": [
    "solve([eq7,eq8],[x,y])"
   ]
  },
  {
   "cell_type": "code",
   "execution_count": 56,
   "id": "05a67757-87be-43f7-a9a8-09073d01e697",
   "metadata": {},
   "outputs": [],
   "source": [
    "## Likningssett 16 Oppgave 1\n",
    "#a1)\n",
    "eq9=sp.Eq(4*x+2*y, 12)\n",
    "#a2)\n",
    "eq10=sp.Eq(6*x-2*y, 8)"
   ]
  },
  {
   "cell_type": "code",
   "execution_count": 57,
   "id": "9a53270e-d504-4a3b-9a6e-2db7706817d0",
   "metadata": {},
   "outputs": [
    {
     "data": {
      "text/plain": [
       "{x: 2, y: 2}"
      ]
     },
     "execution_count": 57,
     "metadata": {},
     "output_type": "execute_result"
    }
   ],
   "source": [
    "solve([eq9,eq10],[x,y])"
   ]
  },
  {
   "cell_type": "code",
   "execution_count": 59,
   "id": "57355114-623d-4ae0-bab4-dcbb854994e7",
   "metadata": {},
   "outputs": [],
   "source": [
    "#b1)\n",
    "eq11=sp.Eq(2*x+y**2, 25)\n",
    "#b2)\n",
    "eq12=sp.Eq(x-2*y, 10)"
   ]
  },
  {
   "cell_type": "code",
   "execution_count": 60,
   "id": "2579ab45-fded-44ce-b4bf-6929b9177e9e",
   "metadata": {},
   "outputs": [
    {
     "data": {
      "text/plain": [
       "[(0, -5), (12, 1)]"
      ]
     },
     "execution_count": 60,
     "metadata": {},
     "output_type": "execute_result"
    }
   ],
   "source": [
    "solve([eq11,eq12],[x,y])"
   ]
  },
  {
   "cell_type": "code",
   "execution_count": 62,
   "id": "c164f439-383f-47ba-b477-eafd3bd104e4",
   "metadata": {},
   "outputs": [],
   "source": [
    "# Oppgave 2\n",
    "#a1)\n",
    "eq13=sp.Eq(4*x-4*y, 8)\n",
    "#a2)\n",
    "eq14=sp.Eq(9*x-5*y, 26)"
   ]
  },
  {
   "cell_type": "code",
   "execution_count": 63,
   "id": "2412b13d-e43e-4e31-9e58-ddc560d6b285",
   "metadata": {},
   "outputs": [
    {
     "data": {
      "text/plain": [
       "{x: 4, y: 2}"
      ]
     },
     "execution_count": 63,
     "metadata": {},
     "output_type": "execute_result"
    }
   ],
   "source": [
    "solve([eq13,eq14], [x,y])"
   ]
  },
  {
   "cell_type": "code",
   "execution_count": 69,
   "id": "92eb9d3b-dc1a-4f49-86a6-d34e7c1953eb",
   "metadata": {},
   "outputs": [],
   "source": [
    "#b1)\n",
    "eq15=sp.Eq(x+2*y**2, 15)\n",
    "#b2)\n",
    "eq16=sp.Eq(x**2-4*y**2, 33)"
   ]
  },
  {
   "cell_type": "code",
   "execution_count": 70,
   "id": "72b08106-fa0f-470a-aea1-99dc5dd966fb",
   "metadata": {},
   "outputs": [
    {
     "data": {
      "text/plain": [
       "[(-9, -2*sqrt(3)), (-9, 2*sqrt(3)), (7, -2), (7, 2)]"
      ]
     },
     "execution_count": 70,
     "metadata": {},
     "output_type": "execute_result"
    }
   ],
   "source": [
    "solve([eq15,eq16],[x,y])"
   ]
  },
  {
   "cell_type": "code",
   "execution_count": 74,
   "id": "f1fcb0a7-2e45-490f-b984-717e5c357fa3",
   "metadata": {},
   "outputs": [],
   "source": [
    "## Likningssett 17\n",
    "# Oppgave 1\n",
    "#a1)\n",
    "eq17=sp.Eq(x*y**2-x, 0)\n",
    "#a2)\n",
    "eq18=sp.Eq(x+y**2, 16)"
   ]
  },
  {
   "cell_type": "code",
   "execution_count": 75,
   "id": "62203221-b512-42b7-abe5-32ba3a495f95",
   "metadata": {},
   "outputs": [
    {
     "data": {
      "text/plain": [
       "[(0, -4), (0, 4), (15, -1), (15, 1)]"
      ]
     },
     "execution_count": 75,
     "metadata": {},
     "output_type": "execute_result"
    }
   ],
   "source": [
    "solve([eq17,eq18],[x,y])"
   ]
  },
  {
   "cell_type": "code",
   "execution_count": 76,
   "id": "c2d686b6-baec-47f2-ae34-6d742627e63b",
   "metadata": {},
   "outputs": [],
   "source": [
    "#b1)\n",
    "eq19=sp.Eq(x**2+y**2, 100)\n",
    "#b2)\n",
    "eq20=sp.Eq(x**2*y-36*y, 0)"
   ]
  },
  {
   "cell_type": "code",
   "execution_count": 77,
   "id": "75aa865e-75be-4c83-b8a3-1ef413e22856",
   "metadata": {},
   "outputs": [
    {
     "data": {
      "text/plain": [
       "[(-10, 0), (-6, -8), (-6, 8), (6, -8), (6, 8), (10, 0)]"
      ]
     },
     "execution_count": 77,
     "metadata": {},
     "output_type": "execute_result"
    }
   ],
   "source": [
    "solve([eq19,eq20],[x,y])"
   ]
  },
  {
   "cell_type": "code",
   "execution_count": 78,
   "id": "d69e65f0-f908-40d3-b477-f359dadf42ec",
   "metadata": {},
   "outputs": [],
   "source": [
    "# Oppgave 2\n",
    "#a1)\n",
    "eq21=sp.Eq(x*y**2-49*x, 0)\n",
    "#a2)\n",
    "eq22=sp.Eq(x**2+y**2, 58)"
   ]
  },
  {
   "cell_type": "code",
   "execution_count": 79,
   "id": "7720c82f-4746-4648-9154-49070258b249",
   "metadata": {},
   "outputs": [
    {
     "data": {
      "text/plain": [
       "[(-3, -7), (-3, 7), (0, -sqrt(58)), (0, sqrt(58)), (3, -7), (3, 7)]"
      ]
     },
     "execution_count": 79,
     "metadata": {},
     "output_type": "execute_result"
    }
   ],
   "source": [
    "solve([eq21,eq22],[x,y])"
   ]
  },
  {
   "cell_type": "code",
   "execution_count": 80,
   "id": "13dbc50c-0b32-4958-8393-144df62069d5",
   "metadata": {},
   "outputs": [],
   "source": [
    "#b1\n",
    "eq23=sp.Eq(x**2+y**2, 5/4)\n",
    "#b2\n",
    "eq24=sp.Eq(2*x*y+y, 0)"
   ]
  },
  {
   "cell_type": "code",
   "execution_count": 81,
   "id": "5c95ab76-29b0-4a25-a557-203534f6382d",
   "metadata": {},
   "outputs": [
    {
     "data": {
      "text/plain": [
       "[(-1.11803398874989, 0.0),\n",
       " (-0.500000000000000, -1.00000000000000),\n",
       " (-0.500000000000000, 1.00000000000000),\n",
       " (1.11803398874989, 0.0)]"
      ]
     },
     "execution_count": 81,
     "metadata": {},
     "output_type": "execute_result"
    }
   ],
   "source": [
    "solve([eq23,eq24], [x,y])"
   ]
  },
  {
   "cell_type": "code",
   "execution_count": 82,
   "id": "45ce1242-7a8b-439e-9911-ca639469a6f0",
   "metadata": {},
   "outputs": [
    {
     "data": {
      "text/latex": [
       "$\\displaystyle 5 x^{4}$"
      ],
      "text/plain": [
       "5*x**4"
      ]
     },
     "execution_count": 82,
     "metadata": {},
     "output_type": "execute_result"
    }
   ],
   "source": [
    "## Likningssett 19\n",
    "# Oppgave 1\n",
    "#a) \n",
    "sp.diff(x**5)"
   ]
  },
  {
   "cell_type": "code",
   "execution_count": 83,
   "id": "fd48b3f5-ddf5-4337-bc47-f1b92f0be814",
   "metadata": {},
   "outputs": [
    {
     "data": {
      "text/latex": [
       "$\\displaystyle 1$"
      ],
      "text/plain": [
       "1"
      ]
     },
     "execution_count": 83,
     "metadata": {},
     "output_type": "execute_result"
    }
   ],
   "source": [
    "#b)\n",
    "sp.diff(x+12)"
   ]
  },
  {
   "cell_type": "code",
   "execution_count": 84,
   "id": "dd8f9a88-5d85-48aa-a14f-456eafa8f7fd",
   "metadata": {},
   "outputs": [
    {
     "data": {
      "text/latex": [
       "$\\displaystyle 3 x^{2} + 8 x$"
      ],
      "text/plain": [
       "3*x**2 + 8*x"
      ]
     },
     "execution_count": 84,
     "metadata": {},
     "output_type": "execute_result"
    }
   ],
   "source": [
    "#c)\n",
    "sp.diff(x**3+4*x**2)"
   ]
  },
  {
   "cell_type": "code",
   "execution_count": 100,
   "id": "d42fe233-ef26-4c38-bb86-966b91e06cea",
   "metadata": {},
   "outputs": [
    {
     "data": {
      "text/latex": [
       "$\\displaystyle 6 x^{2}$"
      ],
      "text/plain": [
       "6*x**2"
      ]
     },
     "execution_count": 100,
     "metadata": {},
     "output_type": "execute_result"
    }
   ],
   "source": [
    "#d)\n",
    "sp.diff(2*x**3+36**0.5)"
   ]
  },
  {
   "cell_type": "code",
   "execution_count": 86,
   "id": "997f7c20-1f38-4af1-ac38-52d0117346c4",
   "metadata": {},
   "outputs": [
    {
     "data": {
      "text/latex": [
       "$\\displaystyle \\frac{1}{2}$"
      ],
      "text/plain": [
       "1/2"
      ]
     },
     "execution_count": 86,
     "metadata": {},
     "output_type": "execute_result"
    }
   ],
   "source": [
    "#e)\n",
    "sp.diff(x**1/2+5**2)"
   ]
  },
  {
   "cell_type": "code",
   "execution_count": 87,
   "id": "51a7e8fb-f514-42dd-b52f-3783609a8342",
   "metadata": {},
   "outputs": [
    {
     "data": {
      "text/latex": [
       "$\\displaystyle 3 x^{2} - \\frac{1}{x^{2}}$"
      ],
      "text/plain": [
       "3*x**2 - 1/x**2"
      ]
     },
     "execution_count": 87,
     "metadata": {},
     "output_type": "execute_result"
    }
   ],
   "source": [
    "#f)\n",
    "sp.diff(x**3+1/x)"
   ]
  },
  {
   "cell_type": "code",
   "execution_count": 88,
   "id": "e958d7fc-aa9d-4fb2-8660-f55fcdb6f478",
   "metadata": {},
   "outputs": [
    {
     "data": {
      "text/latex": [
       "$\\displaystyle 3 x^{2} - 2 x + 0.25$"
      ],
      "text/plain": [
       "3*x**2 - 2*x + 0.25"
      ]
     },
     "execution_count": 88,
     "metadata": {},
     "output_type": "execute_result"
    }
   ],
   "source": [
    "#g)\n",
    "sp.diff(x**3-x**2+1/4*x)"
   ]
  },
  {
   "cell_type": "code",
   "execution_count": 95,
   "id": "22560eb6-b928-4826-9ce7-d184cde1fa9f",
   "metadata": {},
   "outputs": [
    {
     "data": {
      "text/latex": [
       "$\\displaystyle 36 x^{5} - \\frac{1}{x^{2}}$"
      ],
      "text/plain": [
       "36*x**5 - 1/x**2"
      ]
     },
     "execution_count": 95,
     "metadata": {},
     "output_type": "execute_result"
    }
   ],
   "source": [
    "# Oppgave 2\n",
    "#a)\n",
    "sp.diff(1/x+6*x**6)"
   ]
  },
  {
   "cell_type": "code",
   "execution_count": 92,
   "id": "bd9d8a5c-c9bf-48d9-8941-5c1557c71324",
   "metadata": {},
   "outputs": [
    {
     "data": {
      "text/latex": [
       "$\\displaystyle 1.5 x^{2} - 1$"
      ],
      "text/plain": [
       "1.5*x**2 - 1"
      ]
     },
     "execution_count": 92,
     "metadata": {},
     "output_type": "execute_result"
    }
   ],
   "source": [
    "#b)\n",
    "sp.diff(-x+1/2*x**3)"
   ]
  },
  {
   "cell_type": "code",
   "execution_count": 94,
   "id": "c9fbd62a-6740-434f-a3a3-e0f561ff1c88",
   "metadata": {},
   "outputs": [
    {
     "data": {
      "text/latex": [
       "$\\displaystyle x^{2} + x \\left(2 x + 2\\right) + 2 x - 3$"
      ],
      "text/plain": [
       "x**2 + x*(2*x + 2) + 2*x - 3"
      ]
     },
     "execution_count": 94,
     "metadata": {},
     "output_type": "execute_result"
    }
   ],
   "source": [
    "#c)\n",
    "sp.diff(x*(x**2+2*x-3))"
   ]
  },
  {
   "cell_type": "code",
   "execution_count": 98,
   "id": "1eed14ba-454b-46dd-b7a5-355e6d72bd68",
   "metadata": {},
   "outputs": [
    {
     "data": {
      "text/latex": [
       "$\\displaystyle 9 x^{8}$"
      ],
      "text/plain": [
       "9*x**8"
      ]
     },
     "execution_count": 98,
     "metadata": {},
     "output_type": "execute_result"
    }
   ],
   "source": [
    "# Likningssett 20\n",
    "# Oppgave 1\n",
    "#e)\n",
    "sp.diff(x**4*x**5)"
   ]
  },
  {
   "cell_type": "code",
   "execution_count": 99,
   "id": "b5a85305-c3e2-4d5f-8000-b7e450589225",
   "metadata": {},
   "outputs": [
    {
     "data": {
      "text/latex": [
       "$\\displaystyle 1.5 x^{0.5}$"
      ],
      "text/plain": [
       "1.5*x**0.5"
      ]
     },
     "execution_count": 99,
     "metadata": {},
     "output_type": "execute_result"
    }
   ],
   "source": [
    "#f)\n",
    "sp.diff(x*x**0.5)"
   ]
  },
  {
   "cell_type": "code",
   "execution_count": 101,
   "id": "7a86601f-7c1d-4732-ab0d-6b7d4c8529b9",
   "metadata": {},
   "outputs": [
    {
     "data": {
      "text/latex": [
       "$\\displaystyle - \\frac{6}{x^{4}}$"
      ],
      "text/plain": [
       "-6/x**4"
      ]
     },
     "execution_count": 101,
     "metadata": {},
     "output_type": "execute_result"
    }
   ],
   "source": [
    "#g) \n",
    "sp.diff(2/x**3)"
   ]
  },
  {
   "cell_type": "code",
   "execution_count": 102,
   "id": "4076df90-ed5f-427a-928d-6e89abc04c14",
   "metadata": {},
   "outputs": [
    {
     "data": {
      "text/latex": [
       "$\\displaystyle 2 x + \\frac{6}{x^{4}}$"
      ],
      "text/plain": [
       "2*x + 6/x**4"
      ]
     },
     "execution_count": 102,
     "metadata": {},
     "output_type": "execute_result"
    }
   ],
   "source": [
    "#h)\n",
    "sp.diff(x**2-2/x**3)"
   ]
  },
  {
   "cell_type": "code",
   "execution_count": 17,
   "id": "6c7a0c0a-4a62-47ae-bc60-e687fa9d61f0",
   "metadata": {},
   "outputs": [
    {
     "data": {
      "text/latex": [
       "$\\displaystyle 6.5 x^{5.5}$"
      ],
      "text/plain": [
       "6.5*x**5.5"
      ]
     },
     "execution_count": 17,
     "metadata": {},
     "output_type": "execute_result"
    }
   ],
   "source": [
    "#i)\n",
    "sp.diff(x**0.5*x**6)"
   ]
  },
  {
   "cell_type": "code",
   "execution_count": 6,
   "id": "0d9dbbea-6ee9-46fe-80a4-ef548fac1b05",
   "metadata": {},
   "outputs": [
    {
     "data": {
      "text/latex": [
       "$\\displaystyle 3 x^{2} + 1$"
      ],
      "text/plain": [
       "3*x**2 + 1"
      ]
     },
     "execution_count": 6,
     "metadata": {},
     "output_type": "execute_result"
    }
   ],
   "source": [
    "#j)\n",
    "sp.diff(x*(x**2+1))"
   ]
  },
  {
   "cell_type": "code",
   "execution_count": 7,
   "id": "c920e080-fe7d-4589-9829-c2ec682ba4f0",
   "metadata": {},
   "outputs": [
    {
     "data": {
      "text/latex": [
       "$\\displaystyle 2 x - \\frac{12}{x^{4}}$"
      ],
      "text/plain": [
       "2*x - 12/x**4"
      ]
     },
     "execution_count": 7,
     "metadata": {},
     "output_type": "execute_result"
    }
   ],
   "source": [
    "#k)\n",
    "sp.diff(x**2+4/x**3-1)"
   ]
  },
  {
   "cell_type": "code",
   "execution_count": 9,
   "id": "f7033f4a-3f92-4b1f-b3bc-24f5241bd696",
   "metadata": {},
   "outputs": [
    {
     "data": {
      "text/latex": [
       "$\\displaystyle 2$"
      ],
      "text/plain": [
       "2"
      ]
     },
     "execution_count": 9,
     "metadata": {},
     "output_type": "execute_result"
    }
   ],
   "source": [
    "#l)\n",
    "sp.diff(x**2/x**2+2*x)"
   ]
  },
  {
   "cell_type": "code",
   "execution_count": 10,
   "id": "dbf90cb4-ddf8-458a-93a2-450eff0584e2",
   "metadata": {},
   "outputs": [
    {
     "data": {
      "text/latex": [
       "$\\displaystyle 2 x + 4 - \\frac{2}{x^{2}}$"
      ],
      "text/plain": [
       "2*x + 4 - 2/x**2"
      ]
     },
     "execution_count": 10,
     "metadata": {},
     "output_type": "execute_result"
    }
   ],
   "source": [
    "#m)\n",
    "sp.diff(x**2+4*x+2/x-2)"
   ]
  },
  {
   "cell_type": "code",
   "execution_count": 11,
   "id": "ecb2a8c7-bd37-4178-890c-de840d1a7720",
   "metadata": {},
   "outputs": [
    {
     "data": {
      "text/latex": [
       "$\\displaystyle 3 x^{2} + \\frac{2}{x^{2}}$"
      ],
      "text/plain": [
       "3*x**2 + 2/x**2"
      ]
     },
     "execution_count": 11,
     "metadata": {},
     "output_type": "execute_result"
    }
   ],
   "source": [
    "#Oppgave 2\n",
    "#a)\n",
    "sp.diff(x**3-2*x/x**2-1)"
   ]
  },
  {
   "cell_type": "code",
   "execution_count": 13,
   "id": "f68c104d-8d9f-4b35-aa83-12c969153f77",
   "metadata": {},
   "outputs": [
    {
     "data": {
      "text/latex": [
       "$\\displaystyle 2 x \\left(x^{2} - 1\\right) + 2 x \\left(x^{2} + 1\\right)$"
      ],
      "text/plain": [
       "2*x*(x**2 - 1) + 2*x*(x**2 + 1)"
      ]
     },
     "execution_count": 13,
     "metadata": {},
     "output_type": "execute_result"
    }
   ],
   "source": [
    "#b)\n",
    "sp.diff((x**2+1)*(x**2-1))"
   ]
  },
  {
   "cell_type": "code",
   "execution_count": 14,
   "id": "e09bd9ce-4068-4735-bdd2-fca21bda0b62",
   "metadata": {},
   "outputs": [
    {
     "data": {
      "text/latex": [
       "$\\displaystyle 3 + \\frac{12}{x^{4}}$"
      ],
      "text/plain": [
       "3 + 12/x**4"
      ]
     },
     "execution_count": 14,
     "metadata": {},
     "output_type": "execute_result"
    }
   ],
   "source": [
    "#c)\n",
    "sp.diff(3*x-4/x**3+7)"
   ]
  },
  {
   "cell_type": "code",
   "execution_count": 16,
   "id": "671eb2c4-409a-46ec-bc94-7f70e0761489",
   "metadata": {},
   "outputs": [
    {
     "data": {
      "text/latex": [
       "$\\displaystyle \\left(15 x^{2} + 30\\right) \\left(x^{3} + 6 x\\right)^{4}$"
      ],
      "text/plain": [
       "(15*x**2 + 30)*(x**3 + 6*x)**4"
      ]
     },
     "execution_count": 16,
     "metadata": {},
     "output_type": "execute_result"
    }
   ],
   "source": [
    "#Likningssett 21\n",
    "#Oppgave 1\n",
    "#a)\n",
    "sp.diff((x**3+6*x)**5)"
   ]
  },
  {
   "cell_type": "code",
   "execution_count": 26,
   "id": "64786818-4a80-44ff-b216-4ab20f13a627",
   "metadata": {},
   "outputs": [
    {
     "data": {
      "text/latex": [
       "$\\displaystyle \\frac{2.0 x}{\\left(2 x^{2} + 5\\right)^{0.5}}$"
      ],
      "text/plain": [
       "2.0*x*(2*x**2 + 5)**(-0.5)"
      ]
     },
     "execution_count": 26,
     "metadata": {},
     "output_type": "execute_result"
    }
   ],
   "source": [
    "#b)\n",
    "sp.diff((2*x**2+5)**0.5)"
   ]
  },
  {
   "cell_type": "code",
   "execution_count": 27,
   "id": "a37d39ba-9ac7-4282-9c54-9fbb4fa03deb",
   "metadata": {},
   "outputs": [
    {
     "data": {
      "text/latex": [
       "$\\displaystyle - \\frac{8 \\left(3 + \\frac{2}{x}\\right)^{3}}{x^{2}}$"
      ],
      "text/plain": [
       "-8*(3 + 2/x)**3/x**2"
      ]
     },
     "execution_count": 27,
     "metadata": {},
     "output_type": "execute_result"
    }
   ],
   "source": [
    "#c)\n",
    "sp.diff((2*x/x**2+3)**4)"
   ]
  },
  {
   "cell_type": "code",
   "execution_count": 29,
   "id": "ae8f578e-8f5e-42f8-9087-303fcfbc8e79",
   "metadata": {},
   "outputs": [
    {
     "data": {
      "text/latex": [
       "$\\displaystyle 12.0 x^{3} \\left(2 x^{4} + 9\\right)^{0.5}$"
      ],
      "text/plain": [
       "12.0*x**3*(2*x**4 + 9)**0.5"
      ]
     },
     "execution_count": 29,
     "metadata": {},
     "output_type": "execute_result"
    }
   ],
   "source": [
    "#d)\n",
    "sp.diff((2*x**4+9)**1.5)"
   ]
  },
  {
   "cell_type": "code",
   "execution_count": 30,
   "id": "22a8aed6-4a98-4b16-9cd9-9a9715d6dafd",
   "metadata": {},
   "outputs": [
    {
     "data": {
      "text/latex": [
       "$\\displaystyle - \\frac{1.0 x}{\\left(x^{2} + 1\\right)^{1.5}}$"
      ],
      "text/plain": [
       "-1.0*x*(x**2 + 1)**(-1.5)"
      ]
     },
     "execution_count": 30,
     "metadata": {},
     "output_type": "execute_result"
    }
   ],
   "source": [
    "#e)\n",
    "sp.diff(1/(1+x**2)**0.5)"
   ]
  },
  {
   "cell_type": "code",
   "execution_count": 31,
   "id": "90a8f209-7f78-4477-baf8-c380ef27a199",
   "metadata": {},
   "outputs": [
    {
     "data": {
      "text/latex": [
       "$\\displaystyle x^{2} \\left(6 x + 6\\right) \\left(x^{2} + 2 x\\right)^{2} + 2 x \\left(x^{2} + 2 x\\right)^{3}$"
      ],
      "text/plain": [
       "x**2*(6*x + 6)*(x**2 + 2*x)**2 + 2*x*(x**2 + 2*x)**3"
      ]
     },
     "execution_count": 31,
     "metadata": {},
     "output_type": "execute_result"
    }
   ],
   "source": [
    "#f)\n",
    "sp.diff(x**2*(x**2+2*x)**3)"
   ]
  },
  {
   "cell_type": "code",
   "execution_count": 61,
   "id": "34bb4dd6-d923-46d5-8490-7295bfad23ff",
   "metadata": {},
   "outputs": [
    {
     "data": {
      "text/latex": [
       "$\\displaystyle \\frac{x^{2} \\left(x - 1\\right)}{\\sqrt{x^{2} - 2 x}} + 2 x \\sqrt{x^{2} - 2 x}$"
      ],
      "text/plain": [
       "x**2*(x - 1)/sqrt(x**2 - 2*x) + 2*x*sqrt(x**2 - 2*x)"
      ]
     },
     "execution_count": 61,
     "metadata": {},
     "output_type": "execute_result"
    }
   ],
   "source": [
    "#g) \n",
    "sp.diff(x**2*(sp.sqrt(x**2-2*x)))"
   ]
  },
  {
   "cell_type": "code",
   "execution_count": 33,
   "id": "58a251d0-18d7-4c90-8784-0e73c7eff266",
   "metadata": {},
   "outputs": [
    {
     "data": {
      "text/latex": [
       "$\\displaystyle \\frac{x^{2} \\left(- 6 x - 3\\right)}{\\left(x^{2} + x\\right)^{4}} + \\frac{2 x}{\\left(x^{2} + x\\right)^{3}}$"
      ],
      "text/plain": [
       "x**2*(-6*x - 3)/(x**2 + x)**4 + 2*x/(x**2 + x)**3"
      ]
     },
     "execution_count": 33,
     "metadata": {},
     "output_type": "execute_result"
    }
   ],
   "source": [
    "#h)\n",
    "sp.diff(x**2/(x**2+x)**3)"
   ]
  },
  {
   "cell_type": "code",
   "execution_count": 34,
   "id": "e4a4ca28-fde6-477f-aaff-224d68eeeda5",
   "metadata": {},
   "outputs": [
    {
     "data": {
      "text/latex": [
       "$\\displaystyle 9 x^{2} \\left(x^{2} + 1\\right)^{2} \\left(x^{3} + 1\\right)^{2} + 4 x \\left(x^{2} + 1\\right) \\left(x^{3} + 1\\right)^{3}$"
      ],
      "text/plain": [
       "9*x**2*(x**2 + 1)**2*(x**3 + 1)**2 + 4*x*(x**2 + 1)*(x**3 + 1)**3"
      ]
     },
     "execution_count": 34,
     "metadata": {},
     "output_type": "execute_result"
    }
   ],
   "source": [
    "#i)\n",
    "sp.diff((x**2+1)**2*(x**3+1)**3)"
   ]
  },
  {
   "cell_type": "code",
   "execution_count": 35,
   "id": "bc4ec6d9-a9e7-4df5-b883-6d2dc4bb3077",
   "metadata": {},
   "outputs": [
    {
     "data": {
      "text/latex": [
       "$\\displaystyle \\frac{0.5 \\left(24 x + 8\\right) \\left(\\left(3 x^{2} + 2 x\\right)^{4}\\right)^{0.5}}{3 x^{2} + 2 x}$"
      ],
      "text/plain": [
       "0.5*(24*x + 8)*((3*x**2 + 2*x)**4)**0.5/(3*x**2 + 2*x)"
      ]
     },
     "execution_count": 35,
     "metadata": {},
     "output_type": "execute_result"
    }
   ],
   "source": [
    "#Oppgave 2\n",
    "#a)\n",
    "sp.diff(((3*x**2+2*x)**4)**0.5)"
   ]
  },
  {
   "cell_type": "code",
   "execution_count": 36,
   "id": "3f939b6b-33a6-4268-b3d4-0b6cb20849b5",
   "metadata": {},
   "outputs": [
    {
     "data": {
      "text/latex": [
       "$\\displaystyle 15 x^{2} \\left(x^{2} + 3\\right)^{4} \\left(x^{3} + 3\\right)^{4} + 8 x \\left(x^{2} + 3\\right)^{3} \\left(x^{3} + 3\\right)^{5}$"
      ],
      "text/plain": [
       "15*x**2*(x**2 + 3)**4*(x**3 + 3)**4 + 8*x*(x**2 + 3)**3*(x**3 + 3)**5"
      ]
     },
     "execution_count": 36,
     "metadata": {},
     "output_type": "execute_result"
    }
   ],
   "source": [
    "#b)\n",
    "sp.diff((x**3+3)**5*(x**2+3)**4)"
   ]
  },
  {
   "cell_type": "code",
   "execution_count": 37,
   "id": "edc19d30-adfe-4eb3-b509-26bfb46f6f20",
   "metadata": {},
   "outputs": [
    {
     "data": {
      "text/latex": [
       "$\\displaystyle \\frac{1.0 x^{3}}{\\left(x^{2} + 1\\right)^{0.5}} + 2 x \\left(x^{2} + 1\\right)^{0.5}$"
      ],
      "text/plain": [
       "1.0*x**3*(x**2 + 1)**(-0.5) + 2*x*(x**2 + 1)**0.5"
      ]
     },
     "execution_count": 37,
     "metadata": {},
     "output_type": "execute_result"
    }
   ],
   "source": [
    "#c)\n",
    "sp.diff((x**2+1)**0.5*x**2)"
   ]
  },
  {
   "cell_type": "code",
   "execution_count": 38,
   "id": "969465c3-1db6-4a84-8c72-12f25a448fee",
   "metadata": {},
   "outputs": [
    {
     "data": {
      "text/latex": [
       "$\\displaystyle \\frac{\\left(18 x + 6\\right) \\left(3 x^{2} + 2 x\\right)^{2}}{x^{2}} - \\frac{2 \\left(3 x^{2} + 2 x\\right)^{3}}{x^{3}}$"
      ],
      "text/plain": [
       "(18*x + 6)*(3*x**2 + 2*x)**2/x**2 - 2*(3*x**2 + 2*x)**3/x**3"
      ]
     },
     "execution_count": 38,
     "metadata": {},
     "output_type": "execute_result"
    }
   ],
   "source": [
    "#d)\n",
    "sp.diff((2*x+3*x**2)**3/x**2)"
   ]
  },
  {
   "cell_type": "code",
   "execution_count": 39,
   "id": "059ce339-9963-41da-a7f4-768ad2020502",
   "metadata": {},
   "outputs": [
    {
     "data": {
      "text/latex": [
       "$\\displaystyle \\frac{4 x^{3}}{3 \\left(x^{4} - 5\\right)^{\\frac{2}{3}}}$"
      ],
      "text/plain": [
       "4*x**3/(3*(x**4 - 5)**(2/3))"
      ]
     },
     "execution_count": 39,
     "metadata": {},
     "output_type": "execute_result"
    }
   ],
   "source": [
    "#e)\n",
    "sp.diff(sp.cbrt(x**4-5))"
   ]
  },
  {
   "cell_type": "code",
   "execution_count": 40,
   "id": "c91b166d-f573-417e-9233-4b517d17a91d",
   "metadata": {},
   "outputs": [
    {
     "data": {
      "text/latex": [
       "$\\displaystyle - \\frac{2 x^{6}}{\\left(x^{4} - 1\\right)^{\\frac{3}{2}}} + \\frac{3 x^{2}}{\\sqrt{x^{4} - 1}}$"
      ],
      "text/plain": [
       "-2*x**6/(x**4 - 1)**(3/2) + 3*x**2/sqrt(x**4 - 1)"
      ]
     },
     "execution_count": 40,
     "metadata": {},
     "output_type": "execute_result"
    }
   ],
   "source": [
    "#f)\n",
    "sp.diff(x**3/(sp.sqrt(x**4-1)))"
   ]
  },
  {
   "cell_type": "code",
   "execution_count": 41,
   "id": "1a39f82a-1f39-4152-b0b9-cb703e2fbf69",
   "metadata": {},
   "outputs": [],
   "source": [
    "#Likningssett 22\n",
    "ln=sp.ln\n",
    "e=sp.exp"
   ]
  },
  {
   "cell_type": "code",
   "execution_count": 42,
   "id": "969ef335-7db2-431c-b984-d052acaaf94d",
   "metadata": {},
   "outputs": [
    {
     "data": {
      "text/latex": [
       "$\\displaystyle \\frac{1}{x}$"
      ],
      "text/plain": [
       "1/x"
      ]
     },
     "execution_count": 42,
     "metadata": {},
     "output_type": "execute_result"
    }
   ],
   "source": [
    "#Oppgave 1\n",
    "#a) \n",
    "sp.diff(ln(5*x))"
   ]
  },
  {
   "cell_type": "code",
   "execution_count": 45,
   "id": "21292ec0-7339-46a7-8d56-9cc4d5ea0a06",
   "metadata": {},
   "outputs": [
    {
     "data": {
      "text/latex": [
       "$\\displaystyle - 2 e^{- 2 x}$"
      ],
      "text/plain": [
       "-2*exp(-2*x)"
      ]
     },
     "execution_count": 45,
     "metadata": {},
     "output_type": "execute_result"
    }
   ],
   "source": [
    "#b)\n",
    "sp.diff(e(-2*x))"
   ]
  },
  {
   "cell_type": "code",
   "execution_count": 49,
   "id": "ed00d787-5b78-4c5c-986f-21775bcfb359",
   "metadata": {},
   "outputs": [
    {
     "data": {
      "text/latex": [
       "$\\displaystyle \\frac{1}{x}$"
      ],
      "text/plain": [
       "1/x"
      ]
     },
     "execution_count": 49,
     "metadata": {},
     "output_type": "execute_result"
    }
   ],
   "source": [
    "#c)\n",
    "sp.diff(ln(12*x)-3)"
   ]
  },
  {
   "cell_type": "code",
   "execution_count": 51,
   "id": "03910e23-d804-4149-ac0e-2e8d7fca0e6e",
   "metadata": {},
   "outputs": [
    {
     "data": {
      "text/latex": [
       "$\\displaystyle 2^{x} \\log{\\left(2 \\right)}$"
      ],
      "text/plain": [
       "2**x*log(2)"
      ]
     },
     "execution_count": 51,
     "metadata": {},
     "output_type": "execute_result"
    }
   ],
   "source": [
    "#d)\n",
    "sp.diff(2**x)"
   ]
  },
  {
   "cell_type": "code",
   "execution_count": 52,
   "id": "4bb80c21-6d05-4edb-8092-9302c64ace52",
   "metadata": {},
   "outputs": [
    {
     "data": {
      "text/latex": [
       "$\\displaystyle 3 e^{3 x + 5}$"
      ],
      "text/plain": [
       "3*exp(3*x + 5)"
      ]
     },
     "execution_count": 52,
     "metadata": {},
     "output_type": "execute_result"
    }
   ],
   "source": [
    "#e)\n",
    "sp.diff(e(3*x+5))"
   ]
  },
  {
   "cell_type": "code",
   "execution_count": 53,
   "id": "94b7028f-5823-41c1-afd8-dbbb204389b1",
   "metadata": {},
   "outputs": [
    {
     "data": {
      "text/latex": [
       "$\\displaystyle \\frac{5 x^{4}}{x^{5} + 1}$"
      ],
      "text/plain": [
       "5*x**4/(x**5 + 1)"
      ]
     },
     "execution_count": 53,
     "metadata": {},
     "output_type": "execute_result"
    }
   ],
   "source": [
    "#f)\n",
    "sp.diff(ln((x**5+1)))"
   ]
  },
  {
   "cell_type": "code",
   "execution_count": 54,
   "id": "57221033-b5ba-4829-bd45-160ab4540390",
   "metadata": {},
   "outputs": [
    {
     "data": {
      "text/latex": [
       "$\\displaystyle \\left(8 x + 8\\right) e^{4 x^{2} + 8 x}$"
      ],
      "text/plain": [
       "(8*x + 8)*exp(4*x**2 + 8*x)"
      ]
     },
     "execution_count": 54,
     "metadata": {},
     "output_type": "execute_result"
    }
   ],
   "source": [
    "#g)\n",
    "sp.diff(e(4*x**2+8*x))"
   ]
  },
  {
   "cell_type": "code",
   "execution_count": 55,
   "id": "a4e565a4-32a4-4a78-bc24-33c8fc5cd338",
   "metadata": {},
   "outputs": [
    {
     "data": {
      "text/latex": [
       "$\\displaystyle - \\frac{1}{x}$"
      ],
      "text/plain": [
       "-1/x"
      ]
     },
     "execution_count": 55,
     "metadata": {},
     "output_type": "execute_result"
    }
   ],
   "source": [
    "#h)\n",
    "sp.diff(ln(1/x))"
   ]
  },
  {
   "cell_type": "code",
   "execution_count": 60,
   "id": "af56689f-ce79-4434-8e4e-f8b98cddd333",
   "metadata": {},
   "outputs": [
    {
     "data": {
      "text/latex": [
       "$\\displaystyle 12 e^{4 x} + \\frac{6}{x}$"
      ],
      "text/plain": [
       "12*exp(4*x) + 6/x"
      ]
     },
     "execution_count": 60,
     "metadata": {},
     "output_type": "execute_result"
    }
   ],
   "source": [
    "#i)\n",
    "sp.diff(6*ln(x)+3*e(4*x))"
   ]
  },
  {
   "cell_type": "code",
   "execution_count": 62,
   "id": "33268474-ed47-4f24-ab0b-c54526f531f4",
   "metadata": {},
   "outputs": [
    {
     "data": {
      "text/latex": [
       "$\\displaystyle - x e^{- x} + e^{- x}$"
      ],
      "text/plain": [
       "-x*exp(-x) + exp(-x)"
      ]
     },
     "execution_count": 62,
     "metadata": {},
     "output_type": "execute_result"
    }
   ],
   "source": [
    "#j)\n",
    "sp.diff(x*e(-x))"
   ]
  },
  {
   "cell_type": "code",
   "execution_count": 63,
   "id": "210cd771-e369-42c9-a204-b1538da5fbb8",
   "metadata": {},
   "outputs": [
    {
     "data": {
      "text/latex": [
       "$\\displaystyle \\frac{2 x^{3}}{x^{2} + 2} + 2 x \\log{\\left(x^{2} + 2 \\right)}$"
      ],
      "text/plain": [
       "2*x**3/(x**2 + 2) + 2*x*log(x**2 + 2)"
      ]
     },
     "execution_count": 63,
     "metadata": {},
     "output_type": "execute_result"
    }
   ],
   "source": [
    "#k)\n",
    "sp.diff(x**2*ln(x**2+2))"
   ]
  },
  {
   "cell_type": "code",
   "execution_count": 64,
   "id": "ebc7138a-3cd6-48ba-b805-18b12dcaf421",
   "metadata": {},
   "outputs": [
    {
     "data": {
      "text/latex": [
       "$\\displaystyle 2 x^{3} e^{2 x} + 3 x^{2} e^{2 x}$"
      ],
      "text/plain": [
       "2*x**3*exp(2*x) + 3*x**2*exp(2*x)"
      ]
     },
     "execution_count": 64,
     "metadata": {},
     "output_type": "execute_result"
    }
   ],
   "source": [
    "#Oppgave 2\n",
    "#a)\n",
    "sp.diff(x**3*e(2*x))"
   ]
  },
  {
   "cell_type": "code",
   "execution_count": 69,
   "id": "6fe9bce5-e724-463d-88f8-4fe77c4cb42e",
   "metadata": {},
   "outputs": [
    {
     "data": {
      "text/latex": [
       "$\\displaystyle \\frac{\\left(x^{2} + 1\\right) \\left(- \\frac{2 x \\left(x^{2} - 1\\right)}{\\left(x^{2} + 1\\right)^{2}} + \\frac{2 x}{x^{2} + 1}\\right)}{x^{2} - 1}$"
      ],
      "text/plain": [
       "(x**2 + 1)*(-2*x*(x**2 - 1)/(x**2 + 1)**2 + 2*x/(x**2 + 1))/(x**2 - 1)"
      ]
     },
     "execution_count": 69,
     "metadata": {},
     "output_type": "execute_result"
    }
   ],
   "source": [
    "#b)\n",
    "sp.diff(ln((x**2-1)/(x**2+1)))"
   ]
  },
  {
   "cell_type": "code",
   "execution_count": 66,
   "id": "2bf4d258-c001-4cde-8dda-655820fb6d85",
   "metadata": {},
   "outputs": [
    {
     "data": {
      "text/latex": [
       "$\\displaystyle \\frac{2 x^{3}}{x^{2} + 2} + 2 x \\log{\\left(x^{2} + 2 \\right)}$"
      ],
      "text/plain": [
       "2*x**3/(x**2 + 2) + 2*x*log(x**2 + 2)"
      ]
     },
     "execution_count": 66,
     "metadata": {},
     "output_type": "execute_result"
    }
   ],
   "source": [
    "#c)\n",
    "sp.diff(x**2*ln(x**2+2))"
   ]
  },
  {
   "cell_type": "code",
   "execution_count": 73,
   "id": "d2b986df-9454-4a74-b777-9af44ad092d3",
   "metadata": {},
   "outputs": [
    {
     "data": {
      "text/latex": [
       "$\\displaystyle - \\frac{2 x e^{- x}}{\\left(x^{2} + 1\\right)^{2}} - \\frac{e^{- x}}{x^{2} + 1}$"
      ],
      "text/plain": [
       "-2*x*exp(-x)/(x**2 + 1)**2 - exp(-x)/(x**2 + 1)"
      ]
     },
     "execution_count": 73,
     "metadata": {},
     "output_type": "execute_result"
    }
   ],
   "source": [
    "#d)\n",
    "sp.diff((e(-x))/(x**2+1))"
   ]
  }
 ],
 "metadata": {
  "kernelspec": {
   "display_name": "Python 3 (ipykernel)",
   "language": "python",
   "name": "python3"
  },
  "language_info": {
   "codemirror_mode": {
    "name": "ipython",
    "version": 3
   },
   "file_extension": ".py",
   "mimetype": "text/x-python",
   "name": "python",
   "nbconvert_exporter": "python",
   "pygments_lexer": "ipython3",
   "version": "3.9.5"
  }
 },
 "nbformat": 4,
 "nbformat_minor": 5
}
