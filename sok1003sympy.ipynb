{
 "cells": [
  {
   "cell_type": "code",
   "execution_count": 15,
   "id": "7aa2504a-bfd0-40fc-86ea-f576c99d33d4",
   "metadata": {},
   "outputs": [],
   "source": [
    "import numpy as np\n",
    "import sympy as sp\n",
    "from sympy.solvers import solve \n",
    "x, y=sp.symbols('x,y')"
   ]
  },
  {
   "cell_type": "code",
   "execution_count": 71,
   "id": "41654caa-d0e5-42c7-a09b-3b96555a5b87",
   "metadata": {},
   "outputs": [],
   "source": [
    "## 15 likningssett "
   ]
  },
  {
   "cell_type": "code",
   "execution_count": 31,
   "id": "90a6aa1f-8301-408e-9564-01c518e3e192",
   "metadata": {},
   "outputs": [
    {
     "data": {
      "text/latex": [
       "$\\displaystyle 2 x + 4 y = 6$"
      ],
      "text/plain": [
       "Eq(2*x + 4*y, 6)"
      ]
     },
     "execution_count": 31,
     "metadata": {},
     "output_type": "execute_result"
    }
   ],
   "source": [
    "#Oppgave 1\n",
    "#a1)\n",
    "eq1=sp.Eq(2*x+4*y , 6)\n",
    "eq1"
   ]
  },
  {
   "cell_type": "code",
   "execution_count": 33,
   "id": "2407a04c-e578-4e69-8fe9-6db32669d54e",
   "metadata": {},
   "outputs": [
    {
     "data": {
      "text/latex": [
       "$\\displaystyle - 2 x + y = 4$"
      ],
      "text/plain": [
       "Eq(-2*x + y, 4)"
      ]
     },
     "execution_count": 33,
     "metadata": {},
     "output_type": "execute_result"
    }
   ],
   "source": [
    "#a2)\n",
    "eq2=sp.Eq(-2*x+y, 4)\n",
    "eq2"
   ]
  },
  {
   "cell_type": "code",
   "execution_count": 47,
   "id": "1ef60f59-0e77-48ae-a017-8e3abc8fb717",
   "metadata": {},
   "outputs": [
    {
     "data": {
      "text/plain": [
       "{x: -1, y: 2}"
      ]
     },
     "execution_count": 47,
     "metadata": {},
     "output_type": "execute_result"
    }
   ],
   "source": [
    "solve([eq1, eq2],[x,y])"
   ]
  },
  {
   "cell_type": "code",
   "execution_count": 39,
   "id": "f40f6568-a6a4-43be-b21d-2c7a9ae57212",
   "metadata": {},
   "outputs": [
    {
     "data": {
      "text/latex": [
       "$\\displaystyle 2 x - y = -1$"
      ],
      "text/plain": [
       "Eq(2*x - y, -1)"
      ]
     },
     "execution_count": 39,
     "metadata": {},
     "output_type": "execute_result"
    }
   ],
   "source": [
    "# b1)\n",
    "eq3=sp.Eq(2*x-y, -1)\n",
    "eq3"
   ]
  },
  {
   "cell_type": "code",
   "execution_count": 44,
   "id": "e676f6dc-700a-4b91-b98e-1122738cffe1",
   "metadata": {},
   "outputs": [
    {
     "data": {
      "text/latex": [
       "$\\displaystyle x^{2} + x - y = 1$"
      ],
      "text/plain": [
       "Eq(x**2 + x - y, 1)"
      ]
     },
     "execution_count": 44,
     "metadata": {},
     "output_type": "execute_result"
    }
   ],
   "source": [
    "# b2) \n",
    "eq4=sp.Eq(x**2+x-y, 1)\n",
    "eq4"
   ]
  },
  {
   "cell_type": "code",
   "execution_count": 46,
   "id": "2712cd3c-5ebd-459a-bf65-7db6687a41b6",
   "metadata": {},
   "outputs": [
    {
     "data": {
      "text/plain": [
       "[(-1, -1), (2, 5)]"
      ]
     },
     "execution_count": 46,
     "metadata": {},
     "output_type": "execute_result"
    }
   ],
   "source": [
    "solve([eq3,eq4], [x,y])"
   ]
  },
  {
   "cell_type": "code",
   "execution_count": 48,
   "id": "0a483fcd-4901-4b75-90c9-cc0ee05894ec",
   "metadata": {},
   "outputs": [
    {
     "data": {
      "text/latex": [
       "$\\displaystyle 3 x - 12 = -6$"
      ],
      "text/plain": [
       "Eq(3*x - 12, -6)"
      ]
     },
     "execution_count": 48,
     "metadata": {},
     "output_type": "execute_result"
    }
   ],
   "source": [
    "#Oppgave 2\n",
    "# a1) \n",
    "eq5=sp.Eq(3*x-12, -6)\n",
    "eq5"
   ]
  },
  {
   "cell_type": "code",
   "execution_count": 50,
   "id": "cb1e37e0-a756-4202-a120-a6a8cb888f4c",
   "metadata": {},
   "outputs": [
    {
     "data": {
      "text/latex": [
       "$\\displaystyle 4 x - 8 y = 16$"
      ],
      "text/plain": [
       "Eq(4*x - 8*y, 16)"
      ]
     },
     "execution_count": 50,
     "metadata": {},
     "output_type": "execute_result"
    }
   ],
   "source": [
    "#a2)\n",
    "eq6=sp.Eq(4*x-8*y, 16)\n",
    "eq6"
   ]
  },
  {
   "cell_type": "code",
   "execution_count": 51,
   "id": "7df7febd-7834-46db-8885-f541b5ad743d",
   "metadata": {},
   "outputs": [
    {
     "data": {
      "text/plain": [
       "{x: 2, y: -1}"
      ]
     },
     "execution_count": 51,
     "metadata": {},
     "output_type": "execute_result"
    }
   ],
   "source": [
    "solve([eq5,eq6],[x,y])"
   ]
  },
  {
   "cell_type": "code",
   "execution_count": 52,
   "id": "39943bd5-84e2-4f48-8b20-be6d3d9eb417",
   "metadata": {},
   "outputs": [
    {
     "data": {
      "text/latex": [
       "$\\displaystyle x^{2} + 4 x - 3 = 3 y$"
      ],
      "text/plain": [
       "Eq(x**2 + 4*x - 3, 3*y)"
      ]
     },
     "execution_count": 52,
     "metadata": {},
     "output_type": "execute_result"
    }
   ],
   "source": [
    "#b1)\n",
    "eq7=sp.Eq(x**2+4*x-3, 3*y)\n",
    "eq7"
   ]
  },
  {
   "cell_type": "code",
   "execution_count": 53,
   "id": "0be00918-df38-4ab0-a83b-ce6142783264",
   "metadata": {},
   "outputs": [
    {
     "data": {
      "text/latex": [
       "$\\displaystyle 2 y = 8 - x$"
      ],
      "text/plain": [
       "Eq(2*y, 8 - x)"
      ]
     },
     "execution_count": 53,
     "metadata": {},
     "output_type": "execute_result"
    }
   ],
   "source": [
    "#b2)\n",
    "eq8=sp.Eq(2*y, 8-x)\n",
    "eq8"
   ]
  },
  {
   "cell_type": "code",
   "execution_count": 54,
   "id": "de26b51a-9703-4d12-8934-8bff68836d62",
   "metadata": {},
   "outputs": [
    {
     "data": {
      "text/plain": [
       "[(-15/2, 31/4), (2, 3)]"
      ]
     },
     "execution_count": 54,
     "metadata": {},
     "output_type": "execute_result"
    }
   ],
   "source": [
    "solve([eq7,eq8],[x,y])"
   ]
  },
  {
   "cell_type": "code",
   "execution_count": 56,
   "id": "05a67757-87be-43f7-a9a8-09073d01e697",
   "metadata": {},
   "outputs": [],
   "source": [
    "## Likningssett 16 Oppgave 1\n",
    "#a1)\n",
    "eq9=sp.Eq(4*x+2*y, 12)\n",
    "#a2)\n",
    "eq10=sp.Eq(6*x-2*y, 8)"
   ]
  },
  {
   "cell_type": "code",
   "execution_count": 57,
   "id": "9a53270e-d504-4a3b-9a6e-2db7706817d0",
   "metadata": {},
   "outputs": [
    {
     "data": {
      "text/plain": [
       "{x: 2, y: 2}"
      ]
     },
     "execution_count": 57,
     "metadata": {},
     "output_type": "execute_result"
    }
   ],
   "source": [
    "solve([eq9,eq10],[x,y])"
   ]
  },
  {
   "cell_type": "code",
   "execution_count": 59,
   "id": "57355114-623d-4ae0-bab4-dcbb854994e7",
   "metadata": {},
   "outputs": [],
   "source": [
    "#b1)\n",
    "eq11=sp.Eq(2*x+y**2, 25)\n",
    "#b2)\n",
    "eq12=sp.Eq(x-2*y, 10)"
   ]
  },
  {
   "cell_type": "code",
   "execution_count": 60,
   "id": "2579ab45-fded-44ce-b4bf-6929b9177e9e",
   "metadata": {},
   "outputs": [
    {
     "data": {
      "text/plain": [
       "[(0, -5), (12, 1)]"
      ]
     },
     "execution_count": 60,
     "metadata": {},
     "output_type": "execute_result"
    }
   ],
   "source": [
    "solve([eq11,eq12],[x,y])"
   ]
  },
  {
   "cell_type": "code",
   "execution_count": 62,
   "id": "c164f439-383f-47ba-b477-eafd3bd104e4",
   "metadata": {},
   "outputs": [],
   "source": [
    "# Oppgave 2\n",
    "#a1)\n",
    "eq13=sp.Eq(4*x-4*y, 8)\n",
    "#a2)\n",
    "eq14=sp.Eq(9*x-5*y, 26)"
   ]
  },
  {
   "cell_type": "code",
   "execution_count": 63,
   "id": "2412b13d-e43e-4e31-9e58-ddc560d6b285",
   "metadata": {},
   "outputs": [
    {
     "data": {
      "text/plain": [
       "{x: 4, y: 2}"
      ]
     },
     "execution_count": 63,
     "metadata": {},
     "output_type": "execute_result"
    }
   ],
   "source": [
    "solve([eq13,eq14], [x,y])"
   ]
  },
  {
   "cell_type": "code",
   "execution_count": 69,
   "id": "92eb9d3b-dc1a-4f49-86a6-d34e7c1953eb",
   "metadata": {},
   "outputs": [],
   "source": [
    "#b1)\n",
    "eq15=sp.Eq(x+2*y**2, 15)\n",
    "#b2)\n",
    "eq16=sp.Eq(x**2-4*y**2, 33)"
   ]
  },
  {
   "cell_type": "code",
   "execution_count": 70,
   "id": "72b08106-fa0f-470a-aea1-99dc5dd966fb",
   "metadata": {},
   "outputs": [
    {
     "data": {
      "text/plain": [
       "[(-9, -2*sqrt(3)), (-9, 2*sqrt(3)), (7, -2), (7, 2)]"
      ]
     },
     "execution_count": 70,
     "metadata": {},
     "output_type": "execute_result"
    }
   ],
   "source": [
    "solve([eq15,eq16],[x,y])"
   ]
  },
  {
   "cell_type": "code",
   "execution_count": 74,
   "id": "f1fcb0a7-2e45-490f-b984-717e5c357fa3",
   "metadata": {},
   "outputs": [],
   "source": [
    "## Likningssett 17\n",
    "# Oppgave 1\n",
    "#a1)\n",
    "eq17=sp.Eq(x*y**2-x, 0)\n",
    "#a2)\n",
    "eq18=sp.Eq(x+y**2, 16)"
   ]
  },
  {
   "cell_type": "code",
   "execution_count": 75,
   "id": "62203221-b512-42b7-abe5-32ba3a495f95",
   "metadata": {},
   "outputs": [
    {
     "data": {
      "text/plain": [
       "[(0, -4), (0, 4), (15, -1), (15, 1)]"
      ]
     },
     "execution_count": 75,
     "metadata": {},
     "output_type": "execute_result"
    }
   ],
   "source": [
    "solve([eq17,eq18],[x,y])"
   ]
  },
  {
   "cell_type": "code",
   "execution_count": 76,
   "id": "c2d686b6-baec-47f2-ae34-6d742627e63b",
   "metadata": {},
   "outputs": [],
   "source": [
    "#b1)\n",
    "eq19=sp.Eq(x**2+y**2, 100)\n",
    "#b2)\n",
    "eq20=sp.Eq(x**2*y-36*y, 0)"
   ]
  },
  {
   "cell_type": "code",
   "execution_count": 77,
   "id": "75aa865e-75be-4c83-b8a3-1ef413e22856",
   "metadata": {},
   "outputs": [
    {
     "data": {
      "text/plain": [
       "[(-10, 0), (-6, -8), (-6, 8), (6, -8), (6, 8), (10, 0)]"
      ]
     },
     "execution_count": 77,
     "metadata": {},
     "output_type": "execute_result"
    }
   ],
   "source": [
    "solve([eq19,eq20],[x,y])"
   ]
  },
  {
   "cell_type": "code",
   "execution_count": 78,
   "id": "d69e65f0-f908-40d3-b477-f359dadf42ec",
   "metadata": {},
   "outputs": [],
   "source": [
    "# Oppgave 2\n",
    "#a1)\n",
    "eq21=sp.Eq(x*y**2-49*x, 0)\n",
    "#a2)\n",
    "eq22=sp.Eq(x**2+y**2, 58)"
   ]
  },
  {
   "cell_type": "code",
   "execution_count": 79,
   "id": "7720c82f-4746-4648-9154-49070258b249",
   "metadata": {},
   "outputs": [
    {
     "data": {
      "text/plain": [
       "[(-3, -7), (-3, 7), (0, -sqrt(58)), (0, sqrt(58)), (3, -7), (3, 7)]"
      ]
     },
     "execution_count": 79,
     "metadata": {},
     "output_type": "execute_result"
    }
   ],
   "source": [
    "solve([eq21,eq22],[x,y])"
   ]
  },
  {
   "cell_type": "code",
   "execution_count": 80,
   "id": "13dbc50c-0b32-4958-8393-144df62069d5",
   "metadata": {},
   "outputs": [],
   "source": [
    "#b1\n",
    "eq23=sp.Eq(x**2+y**2, 5/4)\n",
    "#b2\n",
    "eq24=sp.Eq(2*x*y+y, 0)"
   ]
  },
  {
   "cell_type": "code",
   "execution_count": 81,
   "id": "5c95ab76-29b0-4a25-a557-203534f6382d",
   "metadata": {},
   "outputs": [
    {
     "data": {
      "text/plain": [
       "[(-1.11803398874989, 0.0),\n",
       " (-0.500000000000000, -1.00000000000000),\n",
       " (-0.500000000000000, 1.00000000000000),\n",
       " (1.11803398874989, 0.0)]"
      ]
     },
     "execution_count": 81,
     "metadata": {},
     "output_type": "execute_result"
    }
   ],
   "source": [
    "solve([eq23,eq24], [x,y])"
   ]
  },
  {
   "cell_type": "code",
   "execution_count": 82,
   "id": "45ce1242-7a8b-439e-9911-ca639469a6f0",
   "metadata": {},
   "outputs": [
    {
     "data": {
      "text/latex": [
       "$\\displaystyle 5 x^{4}$"
      ],
      "text/plain": [
       "5*x**4"
      ]
     },
     "execution_count": 82,
     "metadata": {},
     "output_type": "execute_result"
    }
   ],
   "source": [
    "## Likningssett 19\n",
    "# Oppgave 1\n",
    "#a) \n",
    "sp.diff(x**5)"
   ]
  },
  {
   "cell_type": "code",
   "execution_count": 83,
   "id": "fd48b3f5-ddf5-4337-bc47-f1b92f0be814",
   "metadata": {},
   "outputs": [
    {
     "data": {
      "text/latex": [
       "$\\displaystyle 1$"
      ],
      "text/plain": [
       "1"
      ]
     },
     "execution_count": 83,
     "metadata": {},
     "output_type": "execute_result"
    }
   ],
   "source": [
    "#b)\n",
    "sp.diff(x+12)"
   ]
  },
  {
   "cell_type": "code",
   "execution_count": 84,
   "id": "dd8f9a88-5d85-48aa-a14f-456eafa8f7fd",
   "metadata": {},
   "outputs": [
    {
     "data": {
      "text/latex": [
       "$\\displaystyle 3 x^{2} + 8 x$"
      ],
      "text/plain": [
       "3*x**2 + 8*x"
      ]
     },
     "execution_count": 84,
     "metadata": {},
     "output_type": "execute_result"
    }
   ],
   "source": [
    "#c)\n",
    "sp.diff(x**3+4*x**2)"
   ]
  },
  {
   "cell_type": "code",
   "execution_count": 100,
   "id": "d42fe233-ef26-4c38-bb86-966b91e06cea",
   "metadata": {},
   "outputs": [
    {
     "data": {
      "text/latex": [
       "$\\displaystyle 6 x^{2}$"
      ],
      "text/plain": [
       "6*x**2"
      ]
     },
     "execution_count": 100,
     "metadata": {},
     "output_type": "execute_result"
    }
   ],
   "source": [
    "#d)\n",
    "sp.diff(2*x**3+36**0.5)"
   ]
  },
  {
   "cell_type": "code",
   "execution_count": 86,
   "id": "997f7c20-1f38-4af1-ac38-52d0117346c4",
   "metadata": {},
   "outputs": [
    {
     "data": {
      "text/latex": [
       "$\\displaystyle \\frac{1}{2}$"
      ],
      "text/plain": [
       "1/2"
      ]
     },
     "execution_count": 86,
     "metadata": {},
     "output_type": "execute_result"
    }
   ],
   "source": [
    "#e)\n",
    "sp.diff(x**1/2+5**2)"
   ]
  },
  {
   "cell_type": "code",
   "execution_count": 87,
   "id": "51a7e8fb-f514-42dd-b52f-3783609a8342",
   "metadata": {},
   "outputs": [
    {
     "data": {
      "text/latex": [
       "$\\displaystyle 3 x^{2} - \\frac{1}{x^{2}}$"
      ],
      "text/plain": [
       "3*x**2 - 1/x**2"
      ]
     },
     "execution_count": 87,
     "metadata": {},
     "output_type": "execute_result"
    }
   ],
   "source": [
    "#f)\n",
    "sp.diff(x**3+1/x)"
   ]
  },
  {
   "cell_type": "code",
   "execution_count": 88,
   "id": "e958d7fc-aa9d-4fb2-8660-f55fcdb6f478",
   "metadata": {},
   "outputs": [
    {
     "data": {
      "text/latex": [
       "$\\displaystyle 3 x^{2} - 2 x + 0.25$"
      ],
      "text/plain": [
       "3*x**2 - 2*x + 0.25"
      ]
     },
     "execution_count": 88,
     "metadata": {},
     "output_type": "execute_result"
    }
   ],
   "source": [
    "#g)\n",
    "sp.diff(x**3-x**2+1/4*x)"
   ]
  },
  {
   "cell_type": "code",
   "execution_count": 95,
   "id": "22560eb6-b928-4826-9ce7-d184cde1fa9f",
   "metadata": {},
   "outputs": [
    {
     "data": {
      "text/latex": [
       "$\\displaystyle 36 x^{5} - \\frac{1}{x^{2}}$"
      ],
      "text/plain": [
       "36*x**5 - 1/x**2"
      ]
     },
     "execution_count": 95,
     "metadata": {},
     "output_type": "execute_result"
    }
   ],
   "source": [
    "# Oppgave 2\n",
    "#a)\n",
    "sp.diff(1/x+6*x**6)"
   ]
  },
  {
   "cell_type": "code",
   "execution_count": 92,
   "id": "bd9d8a5c-c9bf-48d9-8941-5c1557c71324",
   "metadata": {},
   "outputs": [
    {
     "data": {
      "text/latex": [
       "$\\displaystyle 1.5 x^{2} - 1$"
      ],
      "text/plain": [
       "1.5*x**2 - 1"
      ]
     },
     "execution_count": 92,
     "metadata": {},
     "output_type": "execute_result"
    }
   ],
   "source": [
    "#b)\n",
    "sp.diff(-x+1/2*x**3)"
   ]
  },
  {
   "cell_type": "code",
   "execution_count": 94,
   "id": "c9fbd62a-6740-434f-a3a3-e0f561ff1c88",
   "metadata": {},
   "outputs": [
    {
     "data": {
      "text/latex": [
       "$\\displaystyle x^{2} + x \\left(2 x + 2\\right) + 2 x - 3$"
      ],
      "text/plain": [
       "x**2 + x*(2*x + 2) + 2*x - 3"
      ]
     },
     "execution_count": 94,
     "metadata": {},
     "output_type": "execute_result"
    }
   ],
   "source": [
    "#c)\n",
    "sp.diff(x*(x**2+2*x-3))"
   ]
  },
  {
   "cell_type": "code",
   "execution_count": 98,
   "id": "1eed14ba-454b-46dd-b7a5-355e6d72bd68",
   "metadata": {},
   "outputs": [
    {
     "data": {
      "text/latex": [
       "$\\displaystyle 9 x^{8}$"
      ],
      "text/plain": [
       "9*x**8"
      ]
     },
     "execution_count": 98,
     "metadata": {},
     "output_type": "execute_result"
    }
   ],
   "source": [
    "# Likningssett 20\n",
    "# Oppgave 1\n",
    "#e)\n",
    "sp.diff(x**4*x**5)"
   ]
  },
  {
   "cell_type": "code",
   "execution_count": 99,
   "id": "b5a85305-c3e2-4d5f-8000-b7e450589225",
   "metadata": {},
   "outputs": [
    {
     "data": {
      "text/latex": [
       "$\\displaystyle 1.5 x^{0.5}$"
      ],
      "text/plain": [
       "1.5*x**0.5"
      ]
     },
     "execution_count": 99,
     "metadata": {},
     "output_type": "execute_result"
    }
   ],
   "source": [
    "#f)\n",
    "sp.diff(x*x**0.5)"
   ]
  },
  {
   "cell_type": "code",
   "execution_count": 101,
   "id": "7a86601f-7c1d-4732-ab0d-6b7d4c8529b9",
   "metadata": {},
   "outputs": [
    {
     "data": {
      "text/latex": [
       "$\\displaystyle - \\frac{6}{x^{4}}$"
      ],
      "text/plain": [
       "-6/x**4"
      ]
     },
     "execution_count": 101,
     "metadata": {},
     "output_type": "execute_result"
    }
   ],
   "source": [
    "#g) \n",
    "sp.diff(2/x**3)"
   ]
  },
  {
   "cell_type": "code",
   "execution_count": 102,
   "id": "4076df90-ed5f-427a-928d-6e89abc04c14",
   "metadata": {},
   "outputs": [
    {
     "data": {
      "text/latex": [
       "$\\displaystyle 2 x + \\frac{6}{x^{4}}$"
      ],
      "text/plain": [
       "2*x + 6/x**4"
      ]
     },
     "execution_count": 102,
     "metadata": {},
     "output_type": "execute_result"
    }
   ],
   "source": [
    "sp.diff(x**2-2/x**3)"
   ]
  }
 ],
 "metadata": {
  "kernelspec": {
   "display_name": "Python 3 (ipykernel)",
   "language": "python",
   "name": "python3"
  },
  "language_info": {
   "codemirror_mode": {
    "name": "ipython",
    "version": 3
   },
   "file_extension": ".py",
   "mimetype": "text/x-python",
   "name": "python",
   "nbconvert_exporter": "python",
   "pygments_lexer": "ipython3",
   "version": "3.9.5"
  }
 },
 "nbformat": 4,
 "nbformat_minor": 5
}
